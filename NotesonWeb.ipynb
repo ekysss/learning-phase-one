{
    "metadata": {
        "kernelspec": {
            "name": "SQL",
            "display_name": "SQL",
            "language": "sql"
        },
        "language_info": {
            "name": "sql",
            "version": ""
        }
    },
    "nbformat_minor": 2,
    "nbformat": 4,
    "cells": [
        {
            "cell_type": "markdown",
            "source": [
                "#  Emily is awesome\r\n",
                "\r\n",
                "\r\n",
                "\r\n",
                ""
            ],
            "metadata": {
                "azdata_cell_guid": "2d8b8429-4e52-4e88-a473-986882cada86"
            },
            "attachments": {}
        },
        {
            "cell_type": "markdown",
            "source": [
                "I am learning about window function on this"
            ],
            "metadata": {
                "azdata_cell_guid": "1ad70786-11e4-46e5-95d1-3c682cf97897"
            },
            "attachments": {}
        },
        {
            "cell_type": "code",
            "source": [
                "\r\n",
                "\r\n",
                "-- Aggregate Functions\r\n",
                "SELECT TOP 5 ord.ShipCountry   \r\n",
                "      ,ord.ShipName\r\n",
                "\t  ,CAST(ord.ShippedDate as DATE) as 'ShippedDate'\r\n",
                "\t  ,ord.Freight\r\n",
                "\t  ,SUM(ord.Freight) OVER(PARTITION BY ord.ShipCountry) as 'WeightByCountry'\r\n",
                "FROM dbo.Orders ord\r\n",
                "ORDER BY ord.ShipCountry, ord.ShipName"
            ],
            "metadata": {
                "azdata_cell_guid": "97cca175-0302-43ad-a831-6d9a0a50c342",
                "language": "sql"
            },
            "outputs": [
                {
                    "output_type": "display_data",
                    "data": {
                        "text/html": "(5 rows affected)"
                    },
                    "metadata": {}
                },
                {
                    "output_type": "display_data",
                    "data": {
                        "text/html": "Total execution time: 00:00:00.086"
                    },
                    "metadata": {}
                },
                {
                    "output_type": "execute_result",
                    "execution_count": 1,
                    "data": {
                        "application/vnd.dataresource+json": {
                            "schema": {
                                "fields": [
                                    {
                                        "name": "ShipCountry"
                                    },
                                    {
                                        "name": "ShipName"
                                    },
                                    {
                                        "name": "ShippedDate"
                                    },
                                    {
                                        "name": "Freight"
                                    },
                                    {
                                        "name": "WeightByCountry"
                                    }
                                ]
                            },
                            "data": [
                                {
                                    "ShipCountry": "Argentina",
                                    "ShipName": "Cactus Comidas para llevar",
                                    "ShippedDate": "2022-05-02",
                                    "Freight": "17.22",
                                    "WeightByCountry": "598.58"
                                },
                                {
                                    "ShipCountry": "Argentina",
                                    "ShipName": "Cactus Comidas para llevar",
                                    "ShippedDate": "2022-12-22",
                                    "Freight": "1.10",
                                    "WeightByCountry": "598.58"
                                },
                                {
                                    "ShipCountry": "Argentina",
                                    "ShipName": "Cactus Comidas para llevar",
                                    "ShippedDate": "2023-01-16",
                                    "Freight": "19.76",
                                    "WeightByCountry": "598.58"
                                },
                                {
                                    "ShipCountry": "Argentina",
                                    "ShipName": "Cactus Comidas para llevar",
                                    "ShippedDate": "2023-02-18",
                                    "Freight": "2.84",
                                    "WeightByCountry": "598.58"
                                },
                                {
                                    "ShipCountry": "Argentina",
                                    "ShipName": "Cactus Comidas para llevar",
                                    "ShippedDate": "2023-03-13",
                                    "Freight": "31.51",
                                    "WeightByCountry": "598.58"
                                }
                            ]
                        },
                        "text/html": "<table><tr><th>ShipCountry</th><th>ShipName</th><th>ShippedDate</th><th>Freight</th><th>WeightByCountry</th></tr><tr><td>Argentina</td><td>Cactus Comidas para llevar</td><td>2022-05-02</td><td>17.22</td><td>598.58</td></tr><tr><td>Argentina</td><td>Cactus Comidas para llevar</td><td>2022-12-22</td><td>1.10</td><td>598.58</td></tr><tr><td>Argentina</td><td>Cactus Comidas para llevar</td><td>2023-01-16</td><td>19.76</td><td>598.58</td></tr><tr><td>Argentina</td><td>Cactus Comidas para llevar</td><td>2023-02-18</td><td>2.84</td><td>598.58</td></tr><tr><td>Argentina</td><td>Cactus Comidas para llevar</td><td>2023-03-13</td><td>31.51</td><td>598.58</td></tr></table>"
                    },
                    "metadata": {}
                }
            ],
            "execution_count": 1
        },
        {
            "cell_type": "markdown",
            "source": [
                "There is more"
            ],
            "metadata": {
                "azdata_cell_guid": "d16134c0-5c74-4410-8d68-a3468bd81386"
            },
            "attachments": {}
        },
        {
            "cell_type": "code",
            "source": [
                ""
            ],
            "metadata": {
                "azdata_cell_guid": "ed63cff4-a257-4101-ad71-76ffb2af5fe2",
                "language": "sql"
            },
            "outputs": [],
            "execution_count": null
        }
    ]
}